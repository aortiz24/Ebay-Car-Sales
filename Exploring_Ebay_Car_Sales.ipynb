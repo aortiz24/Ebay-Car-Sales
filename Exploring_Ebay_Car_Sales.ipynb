{
 "cells": [
  {
   "cell_type": "markdown",
   "metadata": {},
   "source": [
    "# Cleaning the eBay Car Listing Dataset"
   ]
  },
  {
   "cell_type": "markdown",
   "metadata": {},
   "source": [
    "## About the data"
   ]
  },
  {
   "cell_type": "markdown",
   "metadata": {},
   "source": [
    "The original Ebay car sales listing data set was from a German eBay website. The data set used in this notebook is a sampled data set which was uploaded to Kaggle and can be downloaded [here](https://www.kaggle.com/orgesleka/used-cars-database/data). "
   ]
  },
  {
   "cell_type": "markdown",
   "metadata": {
    "collapsed": true
   },
   "source": [
    "Objective: Clean and analyze the used car sales listings"
   ]
  },
  {
   "cell_type": "markdown",
   "metadata": {},
   "source": [
    "## Import packages and data"
   ]
  },
  {
   "cell_type": "code",
   "execution_count": 2,
   "metadata": {
    "collapsed": true
   },
   "outputs": [],
   "source": [
    "import pandas as pd\n",
    "import numpy as np"
   ]
  },
  {
   "cell_type": "code",
   "execution_count": 3,
   "metadata": {
    "collapsed": true
   },
   "outputs": [],
   "source": [
    "autos = pd.read_csv(\"autos.csv\", encoding='Latin-1')"
   ]
  },
  {
   "cell_type": "markdown",
   "metadata": {},
   "source": [
    "## Data Cleaning"
   ]
  },
  {
   "cell_type": "markdown",
   "metadata": {},
   "source": [
    "There are 5000 entries, 20 columns, and some columns have null values in this dataframe. The column names are in camelcase, to the Python preferred snakecase."
   ]
  },
  {
   "cell_type": "code",
   "execution_count": 3,
   "metadata": {},
   "outputs": [
    {
     "name": "stdout",
     "output_type": "stream",
     "text": [
      "<class 'pandas.core.frame.DataFrame'>\n",
      "RangeIndex: 50000 entries, 0 to 49999\n",
      "Data columns (total 20 columns):\n",
      "dateCrawled            50000 non-null object\n",
      "name                   50000 non-null object\n",
      "seller                 50000 non-null object\n",
      "offerType              50000 non-null object\n",
      "price                  50000 non-null object\n",
      "abtest                 50000 non-null object\n",
      "vehicleType            44905 non-null object\n",
      "yearOfRegistration     50000 non-null int64\n",
      "gearbox                47320 non-null object\n",
      "powerPS                50000 non-null int64\n",
      "model                  47242 non-null object\n",
      "odometer               50000 non-null object\n",
      "monthOfRegistration    50000 non-null int64\n",
      "fuelType               45518 non-null object\n",
      "brand                  50000 non-null object\n",
      "notRepairedDamage      40171 non-null object\n",
      "dateCreated            50000 non-null object\n",
      "nrOfPictures           50000 non-null int64\n",
      "postalCode             50000 non-null int64\n",
      "lastSeen               50000 non-null object\n",
      "dtypes: int64(5), object(15)\n",
      "memory usage: 7.6+ MB\n"
     ]
    }
   ],
   "source": [
    "autos.info()"
   ]
  },
  {
   "cell_type": "markdown",
   "metadata": {},
   "source": [
    "Interestingly, this dataframe includes 3 different time stamps in the columns: dateCrawled, dateCreated, and lastSeen."
   ]
  },
  {
   "cell_type": "code",
   "execution_count": 4,
   "metadata": {},
   "outputs": [
    {
     "data": {
      "text/html": [
       "<div>\n",
       "<style scoped>\n",
       "    .dataframe tbody tr th:only-of-type {\n",
       "        vertical-align: middle;\n",
       "    }\n",
       "\n",
       "    .dataframe tbody tr th {\n",
       "        vertical-align: top;\n",
       "    }\n",
       "\n",
       "    .dataframe thead th {\n",
       "        text-align: right;\n",
       "    }\n",
       "</style>\n",
       "<table border=\"1\" class=\"dataframe\">\n",
       "  <thead>\n",
       "    <tr style=\"text-align: right;\">\n",
       "      <th></th>\n",
       "      <th>dateCrawled</th>\n",
       "      <th>name</th>\n",
       "      <th>seller</th>\n",
       "      <th>offerType</th>\n",
       "      <th>price</th>\n",
       "      <th>abtest</th>\n",
       "      <th>vehicleType</th>\n",
       "      <th>yearOfRegistration</th>\n",
       "      <th>gearbox</th>\n",
       "      <th>powerPS</th>\n",
       "      <th>model</th>\n",
       "      <th>odometer</th>\n",
       "      <th>monthOfRegistration</th>\n",
       "      <th>fuelType</th>\n",
       "      <th>brand</th>\n",
       "      <th>notRepairedDamage</th>\n",
       "      <th>dateCreated</th>\n",
       "      <th>nrOfPictures</th>\n",
       "      <th>postalCode</th>\n",
       "      <th>lastSeen</th>\n",
       "    </tr>\n",
       "  </thead>\n",
       "  <tbody>\n",
       "    <tr>\n",
       "      <th>0</th>\n",
       "      <td>2016-03-26 17:47:46</td>\n",
       "      <td>Peugeot_807_160_NAVTECH_ON_BOARD</td>\n",
       "      <td>privat</td>\n",
       "      <td>Angebot</td>\n",
       "      <td>$5,000</td>\n",
       "      <td>control</td>\n",
       "      <td>bus</td>\n",
       "      <td>2004</td>\n",
       "      <td>manuell</td>\n",
       "      <td>158</td>\n",
       "      <td>andere</td>\n",
       "      <td>150,000km</td>\n",
       "      <td>3</td>\n",
       "      <td>lpg</td>\n",
       "      <td>peugeot</td>\n",
       "      <td>nein</td>\n",
       "      <td>2016-03-26 00:00:00</td>\n",
       "      <td>0</td>\n",
       "      <td>79588</td>\n",
       "      <td>2016-04-06 06:45:54</td>\n",
       "    </tr>\n",
       "    <tr>\n",
       "      <th>1</th>\n",
       "      <td>2016-04-04 13:38:56</td>\n",
       "      <td>BMW_740i_4_4_Liter_HAMANN_UMBAU_Mega_Optik</td>\n",
       "      <td>privat</td>\n",
       "      <td>Angebot</td>\n",
       "      <td>$8,500</td>\n",
       "      <td>control</td>\n",
       "      <td>limousine</td>\n",
       "      <td>1997</td>\n",
       "      <td>automatik</td>\n",
       "      <td>286</td>\n",
       "      <td>7er</td>\n",
       "      <td>150,000km</td>\n",
       "      <td>6</td>\n",
       "      <td>benzin</td>\n",
       "      <td>bmw</td>\n",
       "      <td>nein</td>\n",
       "      <td>2016-04-04 00:00:00</td>\n",
       "      <td>0</td>\n",
       "      <td>71034</td>\n",
       "      <td>2016-04-06 14:45:08</td>\n",
       "    </tr>\n",
       "    <tr>\n",
       "      <th>2</th>\n",
       "      <td>2016-03-26 18:57:24</td>\n",
       "      <td>Volkswagen_Golf_1.6_United</td>\n",
       "      <td>privat</td>\n",
       "      <td>Angebot</td>\n",
       "      <td>$8,990</td>\n",
       "      <td>test</td>\n",
       "      <td>limousine</td>\n",
       "      <td>2009</td>\n",
       "      <td>manuell</td>\n",
       "      <td>102</td>\n",
       "      <td>golf</td>\n",
       "      <td>70,000km</td>\n",
       "      <td>7</td>\n",
       "      <td>benzin</td>\n",
       "      <td>volkswagen</td>\n",
       "      <td>nein</td>\n",
       "      <td>2016-03-26 00:00:00</td>\n",
       "      <td>0</td>\n",
       "      <td>35394</td>\n",
       "      <td>2016-04-06 20:15:37</td>\n",
       "    </tr>\n",
       "    <tr>\n",
       "      <th>3</th>\n",
       "      <td>2016-03-12 16:58:10</td>\n",
       "      <td>Smart_smart_fortwo_coupe_softouch/F1/Klima/Pan...</td>\n",
       "      <td>privat</td>\n",
       "      <td>Angebot</td>\n",
       "      <td>$4,350</td>\n",
       "      <td>control</td>\n",
       "      <td>kleinwagen</td>\n",
       "      <td>2007</td>\n",
       "      <td>automatik</td>\n",
       "      <td>71</td>\n",
       "      <td>fortwo</td>\n",
       "      <td>70,000km</td>\n",
       "      <td>6</td>\n",
       "      <td>benzin</td>\n",
       "      <td>smart</td>\n",
       "      <td>nein</td>\n",
       "      <td>2016-03-12 00:00:00</td>\n",
       "      <td>0</td>\n",
       "      <td>33729</td>\n",
       "      <td>2016-03-15 03:16:28</td>\n",
       "    </tr>\n",
       "    <tr>\n",
       "      <th>4</th>\n",
       "      <td>2016-04-01 14:38:50</td>\n",
       "      <td>Ford_Focus_1_6_Benzin_TÜV_neu_ist_sehr_gepfleg...</td>\n",
       "      <td>privat</td>\n",
       "      <td>Angebot</td>\n",
       "      <td>$1,350</td>\n",
       "      <td>test</td>\n",
       "      <td>kombi</td>\n",
       "      <td>2003</td>\n",
       "      <td>manuell</td>\n",
       "      <td>0</td>\n",
       "      <td>focus</td>\n",
       "      <td>150,000km</td>\n",
       "      <td>7</td>\n",
       "      <td>benzin</td>\n",
       "      <td>ford</td>\n",
       "      <td>nein</td>\n",
       "      <td>2016-04-01 00:00:00</td>\n",
       "      <td>0</td>\n",
       "      <td>39218</td>\n",
       "      <td>2016-04-01 14:38:50</td>\n",
       "    </tr>\n",
       "  </tbody>\n",
       "</table>\n",
       "</div>"
      ],
      "text/plain": [
       "           dateCrawled                                               name  \\\n",
       "0  2016-03-26 17:47:46                   Peugeot_807_160_NAVTECH_ON_BOARD   \n",
       "1  2016-04-04 13:38:56         BMW_740i_4_4_Liter_HAMANN_UMBAU_Mega_Optik   \n",
       "2  2016-03-26 18:57:24                         Volkswagen_Golf_1.6_United   \n",
       "3  2016-03-12 16:58:10  Smart_smart_fortwo_coupe_softouch/F1/Klima/Pan...   \n",
       "4  2016-04-01 14:38:50  Ford_Focus_1_6_Benzin_TÜV_neu_ist_sehr_gepfleg...   \n",
       "\n",
       "   seller offerType   price   abtest vehicleType  yearOfRegistration  \\\n",
       "0  privat   Angebot  $5,000  control         bus                2004   \n",
       "1  privat   Angebot  $8,500  control   limousine                1997   \n",
       "2  privat   Angebot  $8,990     test   limousine                2009   \n",
       "3  privat   Angebot  $4,350  control  kleinwagen                2007   \n",
       "4  privat   Angebot  $1,350     test       kombi                2003   \n",
       "\n",
       "     gearbox  powerPS   model   odometer  monthOfRegistration fuelType  \\\n",
       "0    manuell      158  andere  150,000km                    3      lpg   \n",
       "1  automatik      286     7er  150,000km                    6   benzin   \n",
       "2    manuell      102    golf   70,000km                    7   benzin   \n",
       "3  automatik       71  fortwo   70,000km                    6   benzin   \n",
       "4    manuell        0   focus  150,000km                    7   benzin   \n",
       "\n",
       "        brand notRepairedDamage          dateCreated  nrOfPictures  \\\n",
       "0     peugeot              nein  2016-03-26 00:00:00             0   \n",
       "1         bmw              nein  2016-04-04 00:00:00             0   \n",
       "2  volkswagen              nein  2016-03-26 00:00:00             0   \n",
       "3       smart              nein  2016-03-12 00:00:00             0   \n",
       "4        ford              nein  2016-04-01 00:00:00             0   \n",
       "\n",
       "   postalCode             lastSeen  \n",
       "0       79588  2016-04-06 06:45:54  \n",
       "1       71034  2016-04-06 14:45:08  \n",
       "2       35394  2016-04-06 20:15:37  \n",
       "3       33729  2016-03-15 03:16:28  \n",
       "4       39218  2016-04-01 14:38:50  "
      ]
     },
     "execution_count": 4,
     "metadata": {},
     "output_type": "execute_result"
    }
   ],
   "source": [
    "autos.head()"
   ]
  },
  {
   "cell_type": "code",
   "execution_count": 5,
   "metadata": {},
   "outputs": [
    {
     "data": {
      "text/plain": [
       "Index(['dateCrawled', 'name', 'seller', 'offerType', 'price', 'abtest',\n",
       "       'vehicleType', 'yearOfRegistration', 'gearbox', 'powerPS', 'model',\n",
       "       'odometer', 'monthOfRegistration', 'fuelType', 'brand',\n",
       "       'notRepairedDamage', 'dateCreated', 'nrOfPictures', 'postalCode',\n",
       "       'lastSeen'],\n",
       "      dtype='object')"
      ]
     },
     "execution_count": 5,
     "metadata": {},
     "output_type": "execute_result"
    }
   ],
   "source": [
    "#print out all the column names in autos dataframe\n",
    "autos.columns"
   ]
  },
  {
   "cell_type": "code",
   "execution_count": 4,
   "metadata": {
    "collapsed": true
   },
   "outputs": [],
   "source": [
    "# convert column names from camelcase to snakecase\n",
    "# create 'd' dictionary in which the keys are the old column names and values are the new column names \n",
    "d = {'dateCrawled':'date_crawled', 'offerType':'offer_type', 'vehicleType':'vehicle_type', 'yearOfRegistration':'year_of_registration', 'powerPS':'power_ps', 'monthOfRegistration':'month_of_registration', 'fuelType':'fuel_type', 'notRepairedDamage':'not_repaired_damage', 'dateCreated':'date_created', 'nrOfPictures':'nr_of_pictures', 'postalCode':'postal_code', 'lastSeen':'last_seen'}\n",
    "autos = autos.rename(columns = d, inplace = False)"
   ]
  },
  {
   "cell_type": "code",
   "execution_count": null,
   "metadata": {
    "collapsed": true
   },
   "outputs": [],
   "source": [
    "# If your data set is large, use the code above to convert column names in camelcase to snakecase in your data set:\n",
    "# initialize empty lists\n",
    "upperCase = []\n",
    "new_columns = []\n",
    "lower_columns = []\n",
    "\n",
    "# add the lower case column names to 'lower_columns' list\n",
    "for column_name in autos.columns:\n",
    "    if column_name.islower() == True:\n",
    "        lower_columns.append(column_name)\n",
    "\n",
    "# append the edited column names to the 'new_columns' list\n",
    "for column_name in autos.columns:\n",
    "    for c in column_name:\n",
    "        upper_case = c.isupper()\n",
    "        #append each uppercase letter in a column name to 'upperCase' list\n",
    "        if upper_case == True:\n",
    "            upperCase.append(c)\n",
    "            #detect the uppercase in the column name that matches \n",
    "            #the uppercase letter in 'upperCase' list \n",
    "            for u in upperCase:\n",
    "                if c == u in column_name:\n",
    "                    #add an underscore in front of that uppercase letter\n",
    "                    column_names = column_name.replace(u, \"_\" + u)\n",
    "                    #make the uppercase letter to a lowercase letter\n",
    "                    column_names = column_names.replace(u, u.lower())\n",
    "                    #if there is a second uppercase letter in the column name,\n",
    "                    #add an underscore in front of that uppercase letter\n",
    "                    column_names = column_names.replace(u, \"_\" + u)\n",
    "                    #make the uppercase letter to a lowercase letter\n",
    "                    column_name = column_names.replace(u, u.lower())\n",
    "                    #if the entire column name is lowercase\n",
    "                    if column_name.islower() == True:\n",
    "                        #add the column name to the 'new_columns' list\n",
    "                        new_columns.append(column_name)\n",
    "\n",
    "# Together the 'new_columns' and 'lower_columns' list with rename the 'autos' dataframe columns\n",
    "autos.columns = new_columns + lower_columns  \n"
   ]
  },
  {
   "cell_type": "markdown",
   "metadata": {
    "collapsed": true
   },
   "source": [
    "## Inspect dataframe with edited column names"
   ]
  },
  {
   "cell_type": "code",
   "execution_count": 7,
   "metadata": {
    "scrolled": true
   },
   "outputs": [
    {
     "data": {
      "text/html": [
       "<div>\n",
       "<style scoped>\n",
       "    .dataframe tbody tr th:only-of-type {\n",
       "        vertical-align: middle;\n",
       "    }\n",
       "\n",
       "    .dataframe tbody tr th {\n",
       "        vertical-align: top;\n",
       "    }\n",
       "\n",
       "    .dataframe thead th {\n",
       "        text-align: right;\n",
       "    }\n",
       "</style>\n",
       "<table border=\"1\" class=\"dataframe\">\n",
       "  <thead>\n",
       "    <tr style=\"text-align: right;\">\n",
       "      <th></th>\n",
       "      <th>year_of_registration</th>\n",
       "      <th>power_ps</th>\n",
       "      <th>month_of_registration</th>\n",
       "      <th>nr_of_pictures</th>\n",
       "      <th>postal_code</th>\n",
       "    </tr>\n",
       "  </thead>\n",
       "  <tbody>\n",
       "    <tr>\n",
       "      <th>count</th>\n",
       "      <td>50000.000000</td>\n",
       "      <td>50000.000000</td>\n",
       "      <td>50000.000000</td>\n",
       "      <td>50000.0</td>\n",
       "      <td>50000.000000</td>\n",
       "    </tr>\n",
       "    <tr>\n",
       "      <th>mean</th>\n",
       "      <td>2005.073280</td>\n",
       "      <td>116.355920</td>\n",
       "      <td>5.723360</td>\n",
       "      <td>0.0</td>\n",
       "      <td>50813.627300</td>\n",
       "    </tr>\n",
       "    <tr>\n",
       "      <th>std</th>\n",
       "      <td>105.712813</td>\n",
       "      <td>209.216627</td>\n",
       "      <td>3.711984</td>\n",
       "      <td>0.0</td>\n",
       "      <td>25779.747957</td>\n",
       "    </tr>\n",
       "    <tr>\n",
       "      <th>min</th>\n",
       "      <td>1000.000000</td>\n",
       "      <td>0.000000</td>\n",
       "      <td>0.000000</td>\n",
       "      <td>0.0</td>\n",
       "      <td>1067.000000</td>\n",
       "    </tr>\n",
       "    <tr>\n",
       "      <th>25%</th>\n",
       "      <td>1999.000000</td>\n",
       "      <td>70.000000</td>\n",
       "      <td>3.000000</td>\n",
       "      <td>0.0</td>\n",
       "      <td>30451.000000</td>\n",
       "    </tr>\n",
       "    <tr>\n",
       "      <th>50%</th>\n",
       "      <td>2003.000000</td>\n",
       "      <td>105.000000</td>\n",
       "      <td>6.000000</td>\n",
       "      <td>0.0</td>\n",
       "      <td>49577.000000</td>\n",
       "    </tr>\n",
       "    <tr>\n",
       "      <th>75%</th>\n",
       "      <td>2008.000000</td>\n",
       "      <td>150.000000</td>\n",
       "      <td>9.000000</td>\n",
       "      <td>0.0</td>\n",
       "      <td>71540.000000</td>\n",
       "    </tr>\n",
       "    <tr>\n",
       "      <th>max</th>\n",
       "      <td>9999.000000</td>\n",
       "      <td>17700.000000</td>\n",
       "      <td>12.000000</td>\n",
       "      <td>0.0</td>\n",
       "      <td>99998.000000</td>\n",
       "    </tr>\n",
       "  </tbody>\n",
       "</table>\n",
       "</div>"
      ],
      "text/plain": [
       "       year_of_registration      power_ps  month_of_registration  \\\n",
       "count          50000.000000  50000.000000           50000.000000   \n",
       "mean            2005.073280    116.355920               5.723360   \n",
       "std              105.712813    209.216627               3.711984   \n",
       "min             1000.000000      0.000000               0.000000   \n",
       "25%             1999.000000     70.000000               3.000000   \n",
       "50%             2003.000000    105.000000               6.000000   \n",
       "75%             2008.000000    150.000000               9.000000   \n",
       "max             9999.000000  17700.000000              12.000000   \n",
       "\n",
       "       nr_of_pictures   postal_code  \n",
       "count         50000.0  50000.000000  \n",
       "mean              0.0  50813.627300  \n",
       "std               0.0  25779.747957  \n",
       "min               0.0   1067.000000  \n",
       "25%               0.0  30451.000000  \n",
       "50%               0.0  49577.000000  \n",
       "75%               0.0  71540.000000  \n",
       "max               0.0  99998.000000  "
      ]
     },
     "execution_count": 7,
     "metadata": {},
     "output_type": "execute_result"
    }
   ],
   "source": [
    "autos.describe()"
   ]
  },
  {
   "cell_type": "code",
   "execution_count": 8,
   "metadata": {
    "scrolled": true
   },
   "outputs": [
    {
     "data": {
      "text/plain": [
       "date_crawled             object\n",
       "name                     object\n",
       "seller                   object\n",
       "offer_type               object\n",
       "price                    object\n",
       "abtest                   object\n",
       "vehicle_type             object\n",
       "year_of_registration      int64\n",
       "gearbox                  object\n",
       "power_ps                  int64\n",
       "model                    object\n",
       "odometer                 object\n",
       "month_of_registration     int64\n",
       "fuel_type                object\n",
       "brand                    object\n",
       "not_repaired_damage      object\n",
       "date_created             object\n",
       "nr_of_pictures            int64\n",
       "postal_code               int64\n",
       "last_seen                object\n",
       "dtype: object"
      ]
     },
     "execution_count": 8,
     "metadata": {},
     "output_type": "execute_result"
    }
   ],
   "source": [
    "#inspect the data type of each column in autos dataframe\n",
    "autos.dtypes"
   ]
  },
  {
   "cell_type": "markdown",
   "metadata": {},
   "source": [
    "The `price` column has one string that needs to be replace with a NaN value and then needs to be saved as a numeric datatype. The `odometer` column name needs to include the unit of measurement used during data collection before turning the column into a numeric datatype."
   ]
  },
  {
   "cell_type": "code",
   "execution_count": 5,
   "metadata": {
    "collapsed": true
   },
   "outputs": [],
   "source": [
    "#rename 'odometer' column as 'odometer_km'\n",
    "autos = autos.rename(columns={\"odometer\": \"odometer_km\"})"
   ]
  },
  {
   "cell_type": "code",
   "execution_count": 6,
   "metadata": {
    "collapsed": true
   },
   "outputs": [],
   "source": [
    "#remove 'km' and comma string from a value in 'odometer_km' column\n",
    "autos['odometer_km'] = autos['odometer_km'].str.replace('km','')\n",
    "autos['odometer_km'] = autos['odometer_km'].str.replace(',','')\n",
    "#convert 'odometer_km' column to integer data type\n",
    "autos['odometer_km'] = autos['odometer_km'].astype(int)"
   ]
  },
  {
   "cell_type": "code",
   "execution_count": 7,
   "metadata": {
    "collapsed": true
   },
   "outputs": [],
   "source": [
    "#remove special character '$' and comma from a value in 'price' column\n",
    "autos['price'] = autos['price'].str.replace('$','')\n",
    "autos['price'] = autos['price'].str.replace(',','')\n",
    "#convert 'price' column to integer data type\n",
    "autos['price'] = autos['price'].astype(int)"
   ]
  },
  {
   "cell_type": "markdown",
   "metadata": {},
   "source": [
    "Let's check that the changes were successful."
   ]
  },
  {
   "cell_type": "code",
   "execution_count": 12,
   "metadata": {
    "scrolled": true
   },
   "outputs": [
    {
     "data": {
      "text/html": [
       "<div>\n",
       "<style scoped>\n",
       "    .dataframe tbody tr th:only-of-type {\n",
       "        vertical-align: middle;\n",
       "    }\n",
       "\n",
       "    .dataframe tbody tr th {\n",
       "        vertical-align: top;\n",
       "    }\n",
       "\n",
       "    .dataframe thead th {\n",
       "        text-align: right;\n",
       "    }\n",
       "</style>\n",
       "<table border=\"1\" class=\"dataframe\">\n",
       "  <thead>\n",
       "    <tr style=\"text-align: right;\">\n",
       "      <th></th>\n",
       "      <th>price</th>\n",
       "      <th>year_of_registration</th>\n",
       "      <th>power_ps</th>\n",
       "      <th>odometer_km</th>\n",
       "      <th>month_of_registration</th>\n",
       "      <th>nr_of_pictures</th>\n",
       "      <th>postal_code</th>\n",
       "    </tr>\n",
       "  </thead>\n",
       "  <tbody>\n",
       "    <tr>\n",
       "      <th>count</th>\n",
       "      <td>5.000000e+04</td>\n",
       "      <td>50000.000000</td>\n",
       "      <td>50000.000000</td>\n",
       "      <td>50000.000000</td>\n",
       "      <td>50000.000000</td>\n",
       "      <td>50000.0</td>\n",
       "      <td>50000.000000</td>\n",
       "    </tr>\n",
       "    <tr>\n",
       "      <th>mean</th>\n",
       "      <td>9.840044e+03</td>\n",
       "      <td>2005.073280</td>\n",
       "      <td>116.355920</td>\n",
       "      <td>125732.700000</td>\n",
       "      <td>5.723360</td>\n",
       "      <td>0.0</td>\n",
       "      <td>50813.627300</td>\n",
       "    </tr>\n",
       "    <tr>\n",
       "      <th>std</th>\n",
       "      <td>4.811044e+05</td>\n",
       "      <td>105.712813</td>\n",
       "      <td>209.216627</td>\n",
       "      <td>40042.211706</td>\n",
       "      <td>3.711984</td>\n",
       "      <td>0.0</td>\n",
       "      <td>25779.747957</td>\n",
       "    </tr>\n",
       "    <tr>\n",
       "      <th>min</th>\n",
       "      <td>0.000000e+00</td>\n",
       "      <td>1000.000000</td>\n",
       "      <td>0.000000</td>\n",
       "      <td>5000.000000</td>\n",
       "      <td>0.000000</td>\n",
       "      <td>0.0</td>\n",
       "      <td>1067.000000</td>\n",
       "    </tr>\n",
       "    <tr>\n",
       "      <th>25%</th>\n",
       "      <td>1.100000e+03</td>\n",
       "      <td>1999.000000</td>\n",
       "      <td>70.000000</td>\n",
       "      <td>125000.000000</td>\n",
       "      <td>3.000000</td>\n",
       "      <td>0.0</td>\n",
       "      <td>30451.000000</td>\n",
       "    </tr>\n",
       "    <tr>\n",
       "      <th>50%</th>\n",
       "      <td>2.950000e+03</td>\n",
       "      <td>2003.000000</td>\n",
       "      <td>105.000000</td>\n",
       "      <td>150000.000000</td>\n",
       "      <td>6.000000</td>\n",
       "      <td>0.0</td>\n",
       "      <td>49577.000000</td>\n",
       "    </tr>\n",
       "    <tr>\n",
       "      <th>75%</th>\n",
       "      <td>7.200000e+03</td>\n",
       "      <td>2008.000000</td>\n",
       "      <td>150.000000</td>\n",
       "      <td>150000.000000</td>\n",
       "      <td>9.000000</td>\n",
       "      <td>0.0</td>\n",
       "      <td>71540.000000</td>\n",
       "    </tr>\n",
       "    <tr>\n",
       "      <th>max</th>\n",
       "      <td>1.000000e+08</td>\n",
       "      <td>9999.000000</td>\n",
       "      <td>17700.000000</td>\n",
       "      <td>150000.000000</td>\n",
       "      <td>12.000000</td>\n",
       "      <td>0.0</td>\n",
       "      <td>99998.000000</td>\n",
       "    </tr>\n",
       "  </tbody>\n",
       "</table>\n",
       "</div>"
      ],
      "text/plain": [
       "              price  year_of_registration      power_ps    odometer_km  \\\n",
       "count  5.000000e+04          50000.000000  50000.000000   50000.000000   \n",
       "mean   9.840044e+03           2005.073280    116.355920  125732.700000   \n",
       "std    4.811044e+05            105.712813    209.216627   40042.211706   \n",
       "min    0.000000e+00           1000.000000      0.000000    5000.000000   \n",
       "25%    1.100000e+03           1999.000000     70.000000  125000.000000   \n",
       "50%    2.950000e+03           2003.000000    105.000000  150000.000000   \n",
       "75%    7.200000e+03           2008.000000    150.000000  150000.000000   \n",
       "max    1.000000e+08           9999.000000  17700.000000  150000.000000   \n",
       "\n",
       "       month_of_registration  nr_of_pictures   postal_code  \n",
       "count           50000.000000         50000.0  50000.000000  \n",
       "mean                5.723360             0.0  50813.627300  \n",
       "std                 3.711984             0.0  25779.747957  \n",
       "min                 0.000000             0.0   1067.000000  \n",
       "25%                 3.000000             0.0  30451.000000  \n",
       "50%                 6.000000             0.0  49577.000000  \n",
       "75%                 9.000000             0.0  71540.000000  \n",
       "max                12.000000             0.0  99998.000000  "
      ]
     },
     "execution_count": 12,
     "metadata": {},
     "output_type": "execute_result"
    }
   ],
   "source": [
    "autos.describe()"
   ]
  },
  {
   "cell_type": "code",
   "execution_count": 157,
   "metadata": {},
   "outputs": [
    {
     "data": {
      "text/plain": [
       "date_crawled             object\n",
       "name                     object\n",
       "seller                   object\n",
       "offer_type               object\n",
       "price                     int64\n",
       "abtest                   object\n",
       "vehicle_type             object\n",
       "year_of_registration      int64\n",
       "gearbox                  object\n",
       "power_ps                  int64\n",
       "model                    object\n",
       "odometer_km               int64\n",
       "month_of_registration     int64\n",
       "fuel_type                object\n",
       "brand                    object\n",
       "not_repaired_damage      object\n",
       "date_created             object\n",
       "nr_of_pictures            int64\n",
       "postal_code               int64\n",
       "last_seen                object\n",
       "dtype: object"
      ]
     },
     "execution_count": 157,
     "metadata": {},
     "output_type": "execute_result"
    }
   ],
   "source": [
    "autos.dtypes"
   ]
  },
  {
   "cell_type": "markdown",
   "metadata": {},
   "source": [
    "## Removing outliers"
   ]
  },
  {
   "cell_type": "markdown",
   "metadata": {
    "collapsed": true
   },
   "source": [
    "Analyze the columns for values that are unrealistically high or low (outliers) and remove those values from the dataframe. Let's look at `price` and `odometer_km` columns."
   ]
  },
  {
   "cell_type": "markdown",
   "metadata": {},
   "source": [
    "Let's explore the price column."
   ]
  },
  {
   "cell_type": "code",
   "execution_count": 8,
   "metadata": {},
   "outputs": [
    {
     "data": {
      "text/plain": [
       "(2357,)"
      ]
     },
     "execution_count": 8,
     "metadata": {},
     "output_type": "execute_result"
    }
   ],
   "source": [
    "#show unique values in the 'price' column\n",
    "autos[\"price\"].unique().shape"
   ]
  },
  {
   "cell_type": "code",
   "execution_count": 38,
   "metadata": {
    "scrolled": true
   },
   "outputs": [
    {
     "data": {
      "text/plain": [
       "count    5.000000e+04\n",
       "mean     9.840044e+03\n",
       "std      4.811044e+05\n",
       "min      0.000000e+00\n",
       "25%      1.100000e+03\n",
       "50%      2.950000e+03\n",
       "75%      7.200000e+03\n",
       "max      1.000000e+08\n",
       "Name: price, dtype: float64"
      ]
     },
     "execution_count": 38,
     "metadata": {},
     "output_type": "execute_result"
    }
   ],
   "source": [
    "#view the min, max, median, mean, etc\n",
    "autos[\"price\"].describe()"
   ]
  },
  {
   "cell_type": "code",
   "execution_count": 42,
   "metadata": {},
   "outputs": [
    {
     "data": {
      "text/plain": [
       "0       1421\n",
       "500      781\n",
       "1500     734\n",
       "2500     643\n",
       "1000     639\n",
       "Name: price, dtype: int64"
      ]
     },
     "execution_count": 42,
     "metadata": {},
     "output_type": "execute_result"
    }
   ],
   "source": [
    "#shows the highest value counts for 'price' column\n",
    "autos[\"price\"].value_counts().head()"
   ]
  },
  {
   "cell_type": "code",
   "execution_count": 40,
   "metadata": {},
   "outputs": [
    {
     "data": {
      "text/plain": [
       "20790    1\n",
       "8970     1\n",
       "846      1\n",
       "2895     1\n",
       "33980    1\n",
       "Name: price, dtype: int64"
      ]
     },
     "execution_count": 40,
     "metadata": {},
     "output_type": "execute_result"
    }
   ],
   "source": [
    "#shows lowest value counts for 'price' column\n",
    "autos[\"price\"].value_counts().tail()"
   ]
  },
  {
   "cell_type": "code",
   "execution_count": 34,
   "metadata": {},
   "outputs": [
    {
     "data": {
      "text/plain": [
       "0    5000\n",
       "1    8500\n",
       "2    8990\n",
       "3    4350\n",
       "4    1350\n",
       "Name: price, dtype: int64"
      ]
     },
     "execution_count": 34,
     "metadata": {},
     "output_type": "execute_result"
    }
   ],
   "source": [
    "#shows the lowest indexes with their values for 'price' column\n",
    "autos[\"price\"].sort_index(ascending=True).head()"
   ]
  },
  {
   "cell_type": "code",
   "execution_count": 35,
   "metadata": {},
   "outputs": [
    {
     "data": {
      "text/plain": [
       "49999     1250\n",
       "49998    22900\n",
       "49997    13200\n",
       "49996     1980\n",
       "49995    24900\n",
       "Name: price, dtype: int64"
      ]
     },
     "execution_count": 35,
     "metadata": {},
     "output_type": "execute_result"
    }
   ],
   "source": [
    "#shows the highest indices with their values for 'price' column\n",
    "autos[\"price\"].sort_index(ascending=False).head()"
   ]
  },
  {
   "cell_type": "markdown",
   "metadata": {},
   "source": [
    "Let's explore the odometer_km column."
   ]
  },
  {
   "cell_type": "code",
   "execution_count": 43,
   "metadata": {},
   "outputs": [
    {
     "data": {
      "text/plain": [
       "(13,)"
      ]
     },
     "execution_count": 43,
     "metadata": {},
     "output_type": "execute_result"
    }
   ],
   "source": [
    "#show unique values in the 'odometer_km' column\n",
    "autos[\"odometer_km\"].unique().shape"
   ]
  },
  {
   "cell_type": "code",
   "execution_count": 15,
   "metadata": {},
   "outputs": [
    {
     "data": {
      "text/plain": [
       "count     50000.000000\n",
       "mean     125732.700000\n",
       "std       40042.211706\n",
       "min        5000.000000\n",
       "25%      125000.000000\n",
       "50%      150000.000000\n",
       "75%      150000.000000\n",
       "max      150000.000000\n",
       "Name: odometer_km, dtype: float64"
      ]
     },
     "execution_count": 15,
     "metadata": {},
     "output_type": "execute_result"
    }
   ],
   "source": [
    "#view the min, max, median, mean, etc\n",
    "autos[\"odometer_km\"].describe()"
   ]
  },
  {
   "cell_type": "code",
   "execution_count": 48,
   "metadata": {},
   "outputs": [
    {
     "data": {
      "text/plain": [
       "150000    32424\n",
       "125000     5170\n",
       "100000     2169\n",
       "90000      1757\n",
       "80000      1436\n",
       "Name: odometer_km, dtype: int64"
      ]
     },
     "execution_count": 48,
     "metadata": {},
     "output_type": "execute_result"
    }
   ],
   "source": [
    "#shows the highest value counts for 'odometer_km' column\n",
    "autos[\"odometer_km\"].value_counts().head()"
   ]
  },
  {
   "cell_type": "code",
   "execution_count": 49,
   "metadata": {},
   "outputs": [
    {
     "data": {
      "text/plain": [
       "5000     967\n",
       "40000    819\n",
       "30000    789\n",
       "20000    784\n",
       "10000    264\n",
       "Name: odometer_km, dtype: int64"
      ]
     },
     "execution_count": 49,
     "metadata": {},
     "output_type": "execute_result"
    }
   ],
   "source": [
    "#shows the lowest value counts for 'odometer_km' column\n",
    "autos[\"odometer_km\"].value_counts().tail()"
   ]
  },
  {
   "cell_type": "code",
   "execution_count": 50,
   "metadata": {},
   "outputs": [
    {
     "data": {
      "text/plain": [
       "0    150000\n",
       "1    150000\n",
       "2     70000\n",
       "3     70000\n",
       "4    150000\n",
       "Name: odometer_km, dtype: int64"
      ]
     },
     "execution_count": 50,
     "metadata": {},
     "output_type": "execute_result"
    }
   ],
   "source": [
    "#shows the lowest indices with their values for 'odometer_km' column\n",
    "autos[\"odometer_km\"].sort_index(ascending=True).head()"
   ]
  },
  {
   "cell_type": "code",
   "execution_count": 51,
   "metadata": {},
   "outputs": [
    {
     "data": {
      "text/plain": [
       "49999    150000\n",
       "49998     40000\n",
       "49997      5000\n",
       "49996    150000\n",
       "49995    100000\n",
       "Name: odometer_km, dtype: int64"
      ]
     },
     "execution_count": 51,
     "metadata": {},
     "output_type": "execute_result"
    }
   ],
   "source": [
    "#shows the highest indices with their values for 'odometer_km' column\n",
    "autos[\"odometer_km\"].sort_index(ascending=False).head()"
   ]
  },
  {
   "cell_type": "markdown",
   "metadata": {},
   "source": [
    "The price column has zeros that need to be removed before continuing the analysis."
   ]
  },
  {
   "cell_type": "code",
   "execution_count": 9,
   "metadata": {
    "collapsed": true
   },
   "outputs": [],
   "source": [
    "#removing zeros from 'price' column in autos dataframe\n",
    "autos = autos[autos['price'].between(1,350000)]"
   ]
  },
  {
   "cell_type": "markdown",
   "metadata": {},
   "source": [
    "Now, let's look at 5 columns that have date values. It is important to note that the date information came from two sources: crawler and the website itself. The crawler provide date information for the `date_crawled` and `last_seen` columns. The website provided the date information for the `registration_month`, and `registration_year` columns."
   ]
  },
  {
   "cell_type": "markdown",
   "metadata": {},
   "source": [
    "The `registration_month`, and `registration_year` columns have date information in a numerical format. "
   ]
  },
  {
   "cell_type": "markdown",
   "metadata": {},
   "source": [
    "The `date_crawled` and `last_seen` columns have date information in string format."
   ]
  },
  {
   "cell_type": "markdown",
   "metadata": {},
   "source": [
    "Let's see how to convert this information to a numerical format for the `date_crawled` column."
   ]
  },
  {
   "cell_type": "code",
   "execution_count": 10,
   "metadata": {},
   "outputs": [
    {
     "name": "stdout",
     "output_type": "stream",
     "text": [
      "2016-03-05    0.025327\n",
      "2016-03-06    0.014043\n",
      "2016-03-07    0.036014\n",
      "2016-03-08    0.033296\n",
      "2016-03-09    0.033090\n",
      "2016-03-10    0.032184\n",
      "2016-03-11    0.032575\n",
      "2016-03-12    0.036920\n",
      "2016-03-13    0.015670\n",
      "2016-03-14    0.036549\n",
      "2016-03-15    0.034284\n",
      "2016-03-16    0.029610\n",
      "2016-03-17    0.031628\n",
      "2016-03-18    0.012911\n",
      "2016-03-19    0.034778\n",
      "2016-03-20    0.037887\n",
      "2016-03-21    0.037373\n",
      "2016-03-22    0.032987\n",
      "2016-03-23    0.032225\n",
      "2016-03-24    0.029342\n",
      "2016-03-25    0.031607\n",
      "2016-03-26    0.032204\n",
      "2016-03-27    0.031092\n",
      "2016-03-28    0.034860\n",
      "2016-03-29    0.034099\n",
      "2016-03-30    0.033687\n",
      "2016-03-31    0.031834\n",
      "2016-04-01    0.033687\n",
      "2016-04-02    0.035478\n",
      "2016-04-03    0.038608\n",
      "2016-04-04    0.036487\n",
      "2016-04-05    0.013096\n",
      "2016-04-06    0.003171\n",
      "2016-04-07    0.001400\n",
      "Name: date_crawled, dtype: float64\n"
     ]
    }
   ],
   "source": [
    "#extract date values from 'date_crawled' column\n",
    "date_crawled_date_values = autos['date_crawled'].str[:10]\n",
    "#include missing values in the distribution\n",
    "#use percentage instead of counts\n",
    "date_crawled_dates = date_crawled_date_values.value_counts(normalize=True, dropna=False)\n",
    "#rank by date in ascending order (earliest to latest)\n",
    "date_crawled = date_crawled_dates.sort_index()\n",
    "#print series\n",
    "print(date_crawled)"
   ]
  },
  {
   "cell_type": "markdown",
   "metadata": {},
   "source": [
    "Let's see how to convert this information to a numerical format for the `last_seen` column."
   ]
  },
  {
   "cell_type": "code",
   "execution_count": 11,
   "metadata": {},
   "outputs": [
    {
     "name": "stdout",
     "output_type": "stream",
     "text": [
      "2016-03-05    0.001071\n",
      "2016-03-06    0.004324\n",
      "2016-03-07    0.005395\n",
      "2016-03-08    0.007413\n",
      "2016-03-09    0.009595\n",
      "2016-03-10    0.010666\n",
      "2016-03-11    0.012375\n",
      "2016-03-12    0.023783\n",
      "2016-03-13    0.008895\n",
      "2016-03-14    0.012602\n",
      "2016-03-15    0.015876\n",
      "2016-03-16    0.016452\n",
      "2016-03-17    0.028086\n",
      "2016-03-18    0.007351\n",
      "2016-03-19    0.015834\n",
      "2016-03-20    0.020653\n",
      "2016-03-21    0.020632\n",
      "2016-03-22    0.021373\n",
      "2016-03-23    0.018532\n",
      "2016-03-24    0.019767\n",
      "2016-03-25    0.019211\n",
      "2016-03-26    0.016802\n",
      "2016-03-27    0.015649\n",
      "2016-03-28    0.020859\n",
      "2016-03-29    0.022341\n",
      "2016-03-30    0.024771\n",
      "2016-03-31    0.023783\n",
      "2016-04-01    0.022794\n",
      "2016-04-02    0.024915\n",
      "2016-04-03    0.025203\n",
      "2016-04-04    0.024483\n",
      "2016-04-05    0.124761\n",
      "2016-04-06    0.221806\n",
      "2016-04-07    0.131947\n",
      "Name: last_seen, dtype: float64\n"
     ]
    }
   ],
   "source": [
    "#extract date values from 'last_seen' column\n",
    "last_seen_date_values = autos['last_seen'].str[:10]\n",
    "#include missing values in the distribution\n",
    "#use percentage instead of counts\n",
    "last_seen_dates = last_seen_date_values.value_counts(normalize=True, dropna=False)\n",
    "#rank by date in ascending order (earliest to latest)\n",
    "last_seen = last_seen_dates.sort_index()\n",
    "#print series\n",
    "print(last_seen)"
   ]
  },
  {
   "cell_type": "markdown",
   "metadata": {},
   "source": [
    "## Handling the incorrect Registation Year data"
   ]
  },
  {
   "cell_type": "markdown",
   "metadata": {},
   "source": [
    "Let's explore the distribution for the `registration_year` column."
   ]
  },
  {
   "cell_type": "markdown",
   "metadata": {},
   "source": [
    "The current minimum registration year of 1000 is inaccurate because it is before cars were invented. The current maximum registration year of 9999 is inaccurate because it is thousands of years in the future. A new maximum and minimum for the registration year column need to be established."
   ]
  },
  {
   "cell_type": "code",
   "execution_count": 12,
   "metadata": {},
   "outputs": [
    {
     "data": {
      "text/plain": [
       "count    48565.000000\n",
       "mean      2004.755421\n",
       "std         88.643887\n",
       "min       1000.000000\n",
       "25%       1999.000000\n",
       "50%       2004.000000\n",
       "75%       2008.000000\n",
       "max       9999.000000\n",
       "Name: year_of_registration, dtype: float64"
      ]
     },
     "execution_count": 12,
     "metadata": {},
     "output_type": "execute_result"
    }
   ],
   "source": [
    "#describe registration year column\n",
    "autos['year_of_registration'].describe()"
   ]
  },
  {
   "cell_type": "markdown",
   "metadata": {},
   "source": [
    "After examining the registration years before 1900 in the autos dataframe, the lower limit of 1900 is reasonable since the maximum value for the registration year before 1900 is 1800 which is before cars were invented."
   ]
  },
  {
   "cell_type": "code",
   "execution_count": 13,
   "metadata": {
    "collapsed": true
   },
   "outputs": [],
   "source": [
    "autos_before_1900 = autos[autos['year_of_registration'] < 1900]"
   ]
  },
  {
   "cell_type": "code",
   "execution_count": 14,
   "metadata": {},
   "outputs": [
    {
     "data": {
      "text/plain": [
       "count       5.000000\n",
       "mean     1342.400000\n",
       "std       420.158661\n",
       "min      1000.000000\n",
       "25%      1001.000000\n",
       "50%      1111.000000\n",
       "75%      1800.000000\n",
       "max      1800.000000\n",
       "Name: year_of_registration, dtype: float64"
      ]
     },
     "execution_count": 14,
     "metadata": {},
     "output_type": "execute_result"
    }
   ],
   "source": [
    "autos_before_1900['year_of_registration'].describe()"
   ]
  },
  {
   "cell_type": "markdown",
   "metadata": {},
   "source": [
    "After examining the registration years after 2016 in the autos dataframe, the hhighest value for the registration year in the 2000s is 2019. All years greater than 2019 not reasonable since they are too far into the future."
   ]
  },
  {
   "cell_type": "code",
   "execution_count": 49,
   "metadata": {
    "collapsed": true
   },
   "outputs": [],
   "source": [
    "autos_after_2016 = autos[autos['year_of_registration'] > 2016]"
   ]
  },
  {
   "cell_type": "code",
   "execution_count": 50,
   "metadata": {},
   "outputs": [
    {
     "data": {
      "text/plain": [
       "count    1864.000000\n",
       "mean     2017.254292\n",
       "std         0.438037\n",
       "min      2017.000000\n",
       "25%      2017.000000\n",
       "50%      2017.000000\n",
       "75%      2018.000000\n",
       "max      2019.000000\n",
       "Name: year_of_registration, dtype: float64"
      ]
     },
     "execution_count": 50,
     "metadata": {},
     "output_type": "execute_result"
    }
   ],
   "source": [
    "autos_after_2016['year_of_registration'].describe()"
   ]
  },
  {
   "cell_type": "code",
   "execution_count": 17,
   "metadata": {},
   "outputs": [
    {
     "data": {
      "text/plain": [
       "2017    1392\n",
       "2018     470\n",
       "5000       4\n",
       "9999       3\n",
       "2019       2\n",
       "5911       1\n",
       "9000       1\n",
       "2800       1\n",
       "4800       1\n",
       "8888       1\n",
       "4500       1\n",
       "6200       1\n",
       "4100       1\n",
       "Name: year_of_registration, dtype: int64"
      ]
     },
     "execution_count": 17,
     "metadata": {},
     "output_type": "execute_result"
    }
   ],
   "source": [
    "autos_after_2016['year_of_registration'].value_counts()"
   ]
  },
  {
   "cell_type": "markdown",
   "metadata": {},
   "source": [
    "Let's remove the inaccurate registration years and calcuate the distribution of the column!"
   ]
  },
  {
   "cell_type": "code",
   "execution_count": 18,
   "metadata": {
    "collapsed": true
   },
   "outputs": [],
   "source": [
    "#removing inaccurate years from 'year_of_registration' column in autos dataframe\n",
    "autos = autos[autos['year_of_registration'].between(1900,2019)]"
   ]
  },
  {
   "cell_type": "code",
   "execution_count": 19,
   "metadata": {},
   "outputs": [
    {
     "data": {
      "text/plain": [
       "2000    0.065012\n",
       "2005    0.060480\n",
       "1999    0.059677\n",
       "2004    0.055680\n",
       "2003    0.055598\n",
       "2006    0.055001\n",
       "2001    0.054300\n",
       "2002    0.051210\n",
       "1998    0.048676\n",
       "2007    0.046905\n",
       "2008    0.045628\n",
       "2009    0.042950\n",
       "1997    0.040190\n",
       "2011    0.033433\n",
       "2010    0.032733\n",
       "2017    0.028674\n",
       "1996    0.028283\n",
       "2012    0.026985\n",
       "1995    0.025276\n",
       "2016    0.025131\n",
       "2013    0.016541\n",
       "2014    0.013657\n",
       "1994    0.012957\n",
       "2018    0.009682\n",
       "1993    0.008755\n",
       "2015    0.008075\n",
       "1992    0.007622\n",
       "1990    0.007148\n",
       "1991    0.006983\n",
       "1989    0.003584\n",
       "          ...   \n",
       "1976    0.000433\n",
       "1969    0.000391\n",
       "1975    0.000371\n",
       "1965    0.000350\n",
       "1964    0.000247\n",
       "1963    0.000165\n",
       "1959    0.000124\n",
       "1961    0.000124\n",
       "1910    0.000103\n",
       "1937    0.000082\n",
       "1962    0.000082\n",
       "1958    0.000082\n",
       "1956    0.000082\n",
       "1950    0.000062\n",
       "1955    0.000041\n",
       "2019    0.000041\n",
       "1934    0.000041\n",
       "1957    0.000041\n",
       "1951    0.000041\n",
       "1941    0.000041\n",
       "1954    0.000041\n",
       "1953    0.000021\n",
       "1948    0.000021\n",
       "1927    0.000021\n",
       "1943    0.000021\n",
       "1929    0.000021\n",
       "1939    0.000021\n",
       "1938    0.000021\n",
       "1931    0.000021\n",
       "1952    0.000021\n",
       "Name: year_of_registration, Length: 81, dtype: float64"
      ]
     },
     "execution_count": 19,
     "metadata": {},
     "output_type": "execute_result"
    }
   ],
   "source": [
    "#calculate the distribution\n",
    "autos['year_of_registration'].value_counts(normalize=True)"
   ]
  },
  {
   "cell_type": "markdown",
   "metadata": {},
   "source": [
    "## Calculate the mean prices for the top 10 auto brands in the autos dataframe"
   ]
  },
  {
   "cell_type": "code",
   "execution_count": 69,
   "metadata": {
    "scrolled": false
   },
   "outputs": [
    {
     "name": "stdout",
     "output_type": "stream",
     "text": [
      "audi 9212.9306621881\n",
      "mercedes_benz 8526.623225806452\n",
      "bmw 8261.382442169132\n",
      "volkswagen 5333.1962055948115\n",
      "seat 4320.168661588684\n",
      "ford 3728.4121821407452\n",
      "peugeot 3065.611888111888\n",
      "opel 2941.4664391353813\n",
      "fiat 2793.8700475435817\n",
      "renault 2431.195698924731\n"
     ]
    }
   ],
   "source": [
    "#view the unique brands in autos dataframe and their counts\n",
    "auto_brands = autos['brand'].value_counts()\n",
    "#select top 10 most popular auto brands and their counts\n",
    "top_10 = auto_brands[0:10]\n",
    "#select top 10 auto brands\n",
    "top_10_brands = top_10.index\n",
    "#create an empty dictionary\n",
    "brand_mean_prices = {}\n",
    "#for each brand in the top 10 brands list\n",
    "for brand in top_10_brands:\n",
    "    #assign the brand name as the key and the brand's mean price as the value\n",
    "    brand_mean_prices[brand] = autos.loc[autos['brand'] == brand, 'price'].mean()\n",
    "    \n",
    "#List the top 10 most expensive auto brands and their mean prices from greatest to least\n",
    "sorted_brands = sorted(brand_mean_prices, key=brand_mean_prices.get, reverse=True)\n",
    "for brand in sorted_brands:\n",
    "    print(brand, brand_mean_prices[brand])"
   ]
  },
  {
   "cell_type": "markdown",
   "metadata": {
    "collapsed": true
   },
   "source": [
    "## Calculate the mean mileage for the top 10 auto brands in the autos dataframe"
   ]
  },
  {
   "cell_type": "code",
   "execution_count": 72,
   "metadata": {},
   "outputs": [
    {
     "name": "stdout",
     "output_type": "stream",
     "text": [
      "bmw 132682.97307546454\n",
      "mercedes_benz 130848.3870967742\n",
      "audi 129492.56238003839\n",
      "opel 129452.02882062951\n",
      "volkswagen 128955.570612719\n",
      "renault 128062.36559139784\n",
      "peugeot 127356.64335664336\n",
      "ford 124349.49733885274\n",
      "seat 121768.22633297062\n",
      "fiat 117567.35340729002\n"
     ]
    }
   ],
   "source": [
    "#view the unique brands in autos dataframe and their counts\n",
    "auto_brands = autos['brand'].value_counts()\n",
    "#select top 10 most popular auto brands and their counts\n",
    "top_10 = auto_brands[0:10]\n",
    "#select top 10 auto brands\n",
    "top_10_brands = top_10.index\n",
    "#create an empty dictionary\n",
    "brand_mean_mileage = {}\n",
    "#for each brand in the top 10 brands list\n",
    "for brand in top_10_brands:\n",
    "    #assign the brand name as the key and the brand's mean mileage as the value\n",
    "    brand_mean_mileage[brand] = autos.loc[autos['brand'] == brand, 'odometer_km'].mean()\n",
    "    \n",
    "#List the top 10 most expensive auto brands and their mean mileage from greatest to least\n",
    "sorted_mileage = sorted(brand_mean_mileage, key=brand_mean_mileage.get, reverse=True)\n",
    "for brand in sorted_mileage:\n",
    "    print(brand, brand_mean_mileage[brand])"
   ]
  },
  {
   "cell_type": "markdown",
   "metadata": {},
   "source": [
    "## Combine mean prices and mean mileage dictionaries into a dataframe"
   ]
  },
  {
   "cell_type": "code",
   "execution_count": 76,
   "metadata": {
    "collapsed": true
   },
   "outputs": [],
   "source": [
    "#convert mean prices dictionary to Series object\n",
    "bmp_series = pd.Series(brand_mean_prices)\n",
    "#convert mean milages dictionary to Series object\n",
    "bmm_series = pd.Series(brand_mean_mileage)\n",
    "#create 'df' dataframe from mean prices Series object\n",
    "df = pd.DataFrame(bmp_series, columns=['mean_prices'])\n",
    "#add mean mileage Series object to new dataframe 'df'\n",
    "df['mean_mileage'] = bmm_series"
   ]
  },
  {
   "cell_type": "code",
   "execution_count": 77,
   "metadata": {},
   "outputs": [
    {
     "data": {
      "text/html": [
       "<div>\n",
       "<style scoped>\n",
       "    .dataframe tbody tr th:only-of-type {\n",
       "        vertical-align: middle;\n",
       "    }\n",
       "\n",
       "    .dataframe tbody tr th {\n",
       "        vertical-align: top;\n",
       "    }\n",
       "\n",
       "    .dataframe thead th {\n",
       "        text-align: right;\n",
       "    }\n",
       "</style>\n",
       "<table border=\"1\" class=\"dataframe\">\n",
       "  <thead>\n",
       "    <tr style=\"text-align: right;\">\n",
       "      <th></th>\n",
       "      <th>mean_prices</th>\n",
       "      <th>mean_mileage</th>\n",
       "    </tr>\n",
       "  </thead>\n",
       "  <tbody>\n",
       "    <tr>\n",
       "      <th>audi</th>\n",
       "      <td>9212.930662</td>\n",
       "      <td>129492.562380</td>\n",
       "    </tr>\n",
       "    <tr>\n",
       "      <th>bmw</th>\n",
       "      <td>8261.382442</td>\n",
       "      <td>132682.973075</td>\n",
       "    </tr>\n",
       "    <tr>\n",
       "      <th>fiat</th>\n",
       "      <td>2793.870048</td>\n",
       "      <td>117567.353407</td>\n",
       "    </tr>\n",
       "    <tr>\n",
       "      <th>ford</th>\n",
       "      <td>3728.412182</td>\n",
       "      <td>124349.497339</td>\n",
       "    </tr>\n",
       "    <tr>\n",
       "      <th>mercedes_benz</th>\n",
       "      <td>8526.623226</td>\n",
       "      <td>130848.387097</td>\n",
       "    </tr>\n",
       "    <tr>\n",
       "      <th>opel</th>\n",
       "      <td>2941.466439</td>\n",
       "      <td>129452.028821</td>\n",
       "    </tr>\n",
       "    <tr>\n",
       "      <th>peugeot</th>\n",
       "      <td>3065.611888</td>\n",
       "      <td>127356.643357</td>\n",
       "    </tr>\n",
       "    <tr>\n",
       "      <th>renault</th>\n",
       "      <td>2431.195699</td>\n",
       "      <td>128062.365591</td>\n",
       "    </tr>\n",
       "    <tr>\n",
       "      <th>seat</th>\n",
       "      <td>4320.168662</td>\n",
       "      <td>121768.226333</td>\n",
       "    </tr>\n",
       "    <tr>\n",
       "      <th>volkswagen</th>\n",
       "      <td>5333.196206</td>\n",
       "      <td>128955.570613</td>\n",
       "    </tr>\n",
       "  </tbody>\n",
       "</table>\n",
       "</div>"
      ],
      "text/plain": [
       "               mean_prices   mean_mileage\n",
       "audi           9212.930662  129492.562380\n",
       "bmw            8261.382442  132682.973075\n",
       "fiat           2793.870048  117567.353407\n",
       "ford           3728.412182  124349.497339\n",
       "mercedes_benz  8526.623226  130848.387097\n",
       "opel           2941.466439  129452.028821\n",
       "peugeot        3065.611888  127356.643357\n",
       "renault        2431.195699  128062.365591\n",
       "seat           4320.168662  121768.226333\n",
       "volkswagen     5333.196206  128955.570613"
      ]
     },
     "execution_count": 77,
     "metadata": {},
     "output_type": "execute_result"
    }
   ],
   "source": [
    "#pretty print 'df' dataframe\n",
    "df"
   ]
  }
 ],
 "metadata": {
  "kernelspec": {
   "display_name": "Python 3",
   "language": "python",
   "name": "python3"
  },
  "language_info": {
   "codemirror_mode": {
    "name": "ipython",
    "version": 3
   },
   "file_extension": ".py",
   "mimetype": "text/x-python",
   "name": "python",
   "nbconvert_exporter": "python",
   "pygments_lexer": "ipython3",
   "version": "3.7.6"
  }
 },
 "nbformat": 4,
 "nbformat_minor": 2
}
